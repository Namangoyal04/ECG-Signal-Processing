{
  "nbformat": 4,
  "nbformat_minor": 0,
  "metadata": {
    "colab": {
      "provenance": [],
      "authorship_tag": "ABX9TyOtviQxgxMbJi/dYvKIDgfU",
      "include_colab_link": true
    },
    "kernelspec": {
      "name": "python3",
      "display_name": "Python 3"
    },
    "language_info": {
      "name": "python"
    }
  },
  "cells": [
    {
      "cell_type": "markdown",
      "metadata": {
        "id": "view-in-github",
        "colab_type": "text"
      },
      "source": [
        "<a href=\"https://colab.research.google.com/github/Namangoyal04/ECG-Signal-Processing/blob/main/ECG_source_1.ipynb\" target=\"_parent\"><img src=\"https://colab.research.google.com/assets/colab-badge.svg\" alt=\"Open In Colab\"/></a>"
      ]
    },
    {
      "cell_type": "code",
      "execution_count": null,
      "metadata": {
        "id": "bbkGnzvM0xhe"
      },
      "outputs": [],
      "source": [
        "import numpy as np\n",
        "import matplotlib.pyplot as plt\n",
        "\n",
        "# Define single-beat time axis\n",
        "t_single = np.arange(0, 1, 0.001)  # 1-second duration, 1ms resolution\n",
        "\n",
        "# P-wave (Gaussian Bell Curve)\n",
        "P_wave = 0.10 * np.exp(-((t_single - 0.13) ** 2) / (2 * 0.015 ** 2))\n",
        "\n",
        "# Q-wave (Triangular)\n",
        "Q_wave = -0.1 * (t_single - 0.25) * (t_single > 0.25) * (t_single <= 0.28) / 0.03\n",
        "\n",
        "# R-wave (Triangular) - Sharp peak\n",
        "R_1st_wave = (60 * (t_single - 0.28) - 0.1) * (t_single > 0.28) * (t_single <= 0.30)\n",
        "R_2nd_wave = (-60 * (t_single - 0.30) + 1.1) * (t_single > 0.30) * (t_single <= 0.3225)\n",
        "\n",
        "# S-wave (Triangular)\n",
        "S_wave = (9.09 * (t_single - 0.3225) - 0.25) * (t_single > 0.3225) * (t_single < 0.35)\n",
        "\n",
        "# T-wave (Gaussian Bell Curve) - Bell-Shaped\n",
        "T_wave = 0.15 * np.exp(-((t_single - 0.65) ** 2) / (2 * 0.04 ** 2))\n",
        "\n",
        "# Single beat ECG signal\n",
        "ECG_single = (P_wave + Q_wave + R_1st_wave + R_2nd_wave + S_wave + T_wave) / 1000\n",
        "\n",
        "# Repeat for 10 beats with RR interval of 0.83s\n",
        "RR_interval = 0.83  # seconds\n",
        "num_beats = 10  # Total beats\n",
        "\n",
        "# Define full time axis\n",
        "t_full = np.arange(0, RR_interval * num_beats, 0.001)  # 8.3s duration\n",
        "\n",
        "# Initialize full ECG signal\n",
        "ECG_full = np.zeros_like(t_full)\n",
        "\n",
        "# Insert each beat at the correct interval\n",
        "for i in range(num_beats):\n",
        "    start_idx = int(i * RR_interval / 0.001)  # Convert to index\n",
        "    end_idx = start_idx + len(ECG_single)\n",
        "\n",
        "    if end_idx <= len(ECG_full):  # Prevent overflow\n",
        "        ECG_full[start_idx:end_idx] += ECG_single  # Add the waveform properly\n",
        "\n",
        "\n",
        "# Plot the Noisy ECG waveform\n",
        "plt.figure(figsize=(12, 4))\n",
        "plt.plot(t_full, ECG_full, label=\"ECG Signal\", color=\"black\", linewidth=1.5)\n",
        "plt.axhline(0, color='gray', linestyle='--', linewidth=0.5)  # Baseline\n",
        "plt.xlabel(\"Time (s)\")\n",
        "plt.ylabel(\"Voltage (mV)\")\n",
        "plt.title(\"Synthetic ECG Waveform \")\n",
        "plt.xticks(np.arange(0, RR_interval * num_beats + 0.1, 0.5))\n",
        "plt.yticks(np.arange(-0.0003, 0.0011, 0.0001))  # Adjusted for small amplitude\n",
        "plt.legend()\n",
        "plt.grid()\n",
        "plt.show()\n",
        "\n",
        "#Saveform as a text file\n",
        "data = np.column_stack((t_full, ECG_full))\n",
        "np.savetxt(\"ecg_waveform.txt\", data, fmt=\"%.6f\", delimiter=\" \", header=\"\", comments=\"\")\n",
        "\n",
        "\n",
        "\n",
        "\n",
        "# # Download the file (for Google Colab users)\n",
        "# from google.colab import files\n",
        "# files.download(\"ecg_waveform.txt\")\n",
        "\n"
      ]
    }
  ]
}